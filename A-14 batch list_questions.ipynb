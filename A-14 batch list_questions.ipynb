{
 "cells": [
  {
   "cell_type": "code",
   "execution_count": 4,
   "id": "fe215be7-f2c3-43a7-bce0-ddadb726a229",
   "metadata": {},
   "outputs": [
    {
     "name": "stdout",
     "output_type": "stream",
     "text": [
      "18\n"
     ]
    }
   ],
   "source": [
    "list=[1,2,6,4,5]\n",
    "sum=0\n",
    "for i in list:\n",
    "    sum=i+sum;\n",
    "print(sum);"
   ]
  },
  {
   "cell_type": "code",
   "execution_count": 5,
   "id": "5a54db50-6409-4eb2-a2a8-c358b9cd65b2",
   "metadata": {},
   "outputs": [
    {
     "name": "stdout",
     "output_type": "stream",
     "text": [
      "5\n"
     ]
    }
   ],
   "source": [
    "list=[1,2,6,4,5]\n",
    "count=0\n",
    "for i in list:\n",
    "    count=count+1\n",
    "print(count);"
   ]
  },
  {
   "cell_type": "code",
   "execution_count": 10,
   "id": "8f5111c4-291d-4cb6-9598-86ab5d4bc025",
   "metadata": {},
   "outputs": [
    {
     "name": "stdout",
     "output_type": "stream",
     "text": [
      "4\n"
     ]
    }
   ],
   "source": [
    "lst = ['a',4,'rt',4,2,5]\n",
    "no = 0 \n",
    "for i in lst:\n",
    "  if type(i)==int or type(i)==float:\n",
    "    no+=1\n",
    "print(no);\n"
   ]
  },
  {
   "cell_type": "code",
   "execution_count": 15,
   "id": "9f7fb838-aada-48d7-b8dc-0ec50c52eada",
   "metadata": {},
   "outputs": [
    {
     "name": "stdout",
     "output_type": "stream",
     "text": [
      "Total sum 45\n",
      "total count 9\n",
      "average of list 5.0\n"
     ]
    }
   ],
   "source": [
    "#find the average of list\n",
    "list=[1,2,3,4,5,6,7,8,9]\n",
    "sum=0\n",
    "count=0\n",
    "for i in list:\n",
    "    sum=sum+i;\n",
    "    count=count+1;\n",
    "print(\"Total sum\",sum);\n",
    "print(\"total count\",count);\n",
    "average=sum/count\n",
    "print(\"average of list\",average);\n",
    " \n",
    "    "
   ]
  },
  {
   "cell_type": "code",
   "execution_count": 17,
   "id": "5de7ca90-9ce6-4981-91e8-4e08b174f625",
   "metadata": {},
   "outputs": [
    {
     "name": "stdout",
     "output_type": "stream",
     "text": [
      "1\n",
      "8\n",
      "27\n",
      "64\n",
      "125\n",
      "216\n",
      "[1, 8, 27, 64, 125, 216]\n"
     ]
    }
   ],
   "source": [
    "#take a list and make a cube of it\n",
    "list=[1,2,3,4,5,6]\n",
    "n_list=[]\n",
    "for i in list:\n",
    "   cube= i*i*i;\n",
    "   print(cube);\n",
    "   n_list.append(cube);\n",
    "print(n_list);\n",
    "\n"
   ]
  },
  {
   "cell_type": "code",
   "execution_count": 7,
   "id": "51d1a7a7-96bc-4d64-a530-788241106720",
   "metadata": {},
   "outputs": [
    {
     "name": "stdout",
     "output_type": "stream",
     "text": [
      "First 1\n",
      "Last: 5\n",
      "Middle: 8\n"
     ]
    }
   ],
   "source": [
    "#find out first mid and last of list\n",
    "list=[1,3,5,7,8,4,7,9,5]\n",
    "count=0\n",
    "print(\"First\",list[0]);\n",
    "print(\"Last:\",list[len(list) - 1])\n",
    "\n",
    "for i in list:\n",
    "    count += 1\n",
    "print(\"Middle:\", list[count // 2])"
   ]
  },
  {
   "cell_type": "code",
   "execution_count": 22,
   "id": "f5f92796-97d5-4acf-8639-9cee97e4e6eb",
   "metadata": {},
   "outputs": [],
   "source": [
    "#find the even index number should be print from a list\n"
   ]
  },
  {
   "cell_type": "code",
   "execution_count": 43,
   "id": "0661ba25-9013-4fb8-af9b-6f419bde9f62",
   "metadata": {},
   "outputs": [
    {
     "name": "stdout",
     "output_type": "stream",
     "text": [
      "prime number\n",
      "prime number\n",
      "prime number\n",
      "prime number\n",
      "prime number\n",
      "prime number\n",
      "prime number\n",
      "prime number\n",
      "prime number\n"
     ]
    }
   ],
   "source": [
    "#find out the prime number from the list\n",
    "list=[1,2,5,6,7,4,3,7,8]\n",
    "\n",
    "for i in list:\n",
    "    if list[i]%1==0 and list[i]%list[i]==0:\n",
    "        print(\"prime number\")\n",
    "    else:\n",
    "        print(\"not prime\")"
   ]
  },
  {
   "cell_type": "code",
   "execution_count": 41,
   "id": "a89f4558-d183-42a8-9853-33e7063ebef8",
   "metadata": {},
   "outputs": [
    {
     "name": "stdout",
     "output_type": "stream",
     "text": [
      "Four-digit numbers: [6789, 4567]\n"
     ]
    }
   ],
   "source": [
    "numbers = [12, 345, 6789, 12345, 987, 4567]\n",
    "four_digit_numbers = []\n",
    "\n",
    "for i in numbers:\n",
    "    if len(str(i)) == 4:\n",
    "        four_digit_numbers.append(i)\n",
    "       \n",
    "print(\"Four-digit numbers:\", four_digit_numbers)"
   ]
  },
  {
   "cell_type": "code",
   "execution_count": 1,
   "id": "03879cad-675d-4fe5-837c-ab13621537e0",
   "metadata": {},
   "outputs": [],
   "source": [
    "# Q3 take a string and the index position\n",
    "# check the string first half should be same as second half of string from the last index\n",
    "# - if both half is same print \"Yes\" else \"nO\"\n",
    "# without using any slicing operator or inbuilt function\n"
   ]
  },
  {
   "cell_type": "code",
   "execution_count": 9,
   "id": "4fd2f7d5-875d-4a76-b119-86a72f473e74",
   "metadata": {},
   "outputs": [
    {
     "ename": "IndentationError",
     "evalue": "unindent does not match any outer indentation level (<string>, line 7)",
     "output_type": "error",
     "traceback": [
      "  \u001b[36mFile \u001b[39m\u001b[32m<string>:7\u001b[39m\n\u001b[31m    \u001b[39m\u001b[31mfor j in range (1,11):\u001b[39m\n                          ^\n\u001b[31mIndentationError\u001b[39m\u001b[31m:\u001b[39m unindent does not match any outer indentation level\n"
     ]
    }
   ],
   "source": [
    "# 2's Table\n",
    "n=[]\n",
    "list=[2,3]\n",
    "for i in list:\n",
    "    temp=[]\n",
    "# num=int(input(\"Enter the number\"))\n",
    " for j in range (1,11):\n",
    "    table=j*i\n",
    "    print(table)\n",
    "     temp.append(table)\n",
    " n.append(temp)\n",
    " print(n)\n",
    "\n",
    "    "
   ]
  },
  {
   "cell_type": "code",
   "execution_count": 1,
   "id": "9da5bdec-9f65-466a-861a-c1c2f133d8b1",
   "metadata": {},
   "outputs": [
    {
     "name": "stdout",
     "output_type": "stream",
     "text": [
      "      1       1 1       1 1 1 \n"
     ]
    }
   ],
   "source": [
    "for i in range(1,4):\n",
    "    for j in range(3,0,-1):\n",
    "        print(\" \" ,end=\" \")\n",
    "    for k in range(0,i):\n",
    "        print(\"1\",end=\" \")\n",
    "print(\"\")\n"
   ]
  },
  {
   "cell_type": "code",
   "execution_count": 9,
   "id": "2346ffcd-df42-44a8-9a21-89ca993f5cc2",
   "metadata": {},
   "outputs": [
    {
     "name": "stdout",
     "output_type": "stream",
     "text": [
      "[1, 2, 3, 4, 5, 6, 7]\n"
     ]
    }
   ],
   "source": [
    "#write a program to find the duplicate values from a list\n",
    "list=[1,2,3,4,3,6,7,5,4]\n",
    "new_list=[]\n",
    "for i in range(len(list)):\n",
    "    for j in range(1,len(list)-1):\n",
    "     if i==j:\n",
    "        new_list.append(i)\n",
    "print(new_list)"
   ]
  },
  {
   "cell_type": "code",
   "execution_count": 12,
   "id": "9353e124-e21c-46aa-9c69-7e1a9f007a7e",
   "metadata": {},
   "outputs": [
    {
     "name": "stdout",
     "output_type": "stream",
     "text": [
      "['x', 'e', 'g', 'e', 'r', ' ', 'o', 't', ' ', 'e', 'm', 'o', 'c', 'l', 'e', 'w']\n"
     ]
    }
   ],
   "source": [
    "#Reverse the string \n",
    "data=\"welcome to regex\"\n",
    "new=[]\n",
    "for i in data:\n",
    "    new.insert(0,i)\n",
    "print(new)"
   ]
  },
  {
   "cell_type": "code",
   "execution_count": 1,
   "id": "a23d5321-0678-49d8-860d-6cc8050a81a6",
   "metadata": {},
   "outputs": [
    {
     "name": "stdout",
     "output_type": "stream",
     "text": [
      "xeger ot emoclew \n"
     ]
    }
   ],
   "source": [
    "#Reverse the string \n",
    "data=\"welcome to regex\"\n",
    "new=' '\n",
    "for i in data:\n",
    "    new=i+new\n",
    "print(new)"
   ]
  },
  {
   "cell_type": "code",
   "execution_count": 12,
   "id": "b3203dcd-de06-422a-b5af-f95a9711dd44",
   "metadata": {},
   "outputs": [
    {
     "name": "stdin",
     "output_type": "stream",
     "text": [
      "Enter a integer value 8\n"
     ]
    },
    {
     "name": "stdout",
     "output_type": "stream",
     "text": [
      "8\n",
      "4\n",
      "2\n",
      "1\n"
     ]
    }
   ],
   "source": [
    "#find factor of a element\n",
    "f=int(input(\"Enter a integer value\"))\n",
    "for i in range(f,0,-1):\n",
    "       if f%i==0:\n",
    "        print(i)\n"
   ]
  }
 ],
 "metadata": {
  "kernelspec": {
   "display_name": "Python 3 (ipykernel)",
   "language": "python",
   "name": "python3"
  },
  "language_info": {
   "codemirror_mode": {
    "name": "ipython",
    "version": 3
   },
   "file_extension": ".py",
   "mimetype": "text/x-python",
   "name": "python",
   "nbconvert_exporter": "python",
   "pygments_lexer": "ipython3",
   "version": "3.13.2"
  }
 },
 "nbformat": 4,
 "nbformat_minor": 5
}
